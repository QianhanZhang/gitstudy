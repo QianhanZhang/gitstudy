{
 "cells": [
  {
   "cell_type": "code",
   "execution_count": 98,
   "metadata": {},
   "outputs": [],
   "source": [
    "#retrieve data\n",
    "import fredapi as fa\n",
    "import numpy as np\n",
    "import pandas as pd\n",
    "fred = fa.Fred(api_key='5a1ff3ede53791bbf50cfe6c9d218b7f')"
   ]
  },
  {
   "cell_type": "code",
   "execution_count": 99,
   "metadata": {},
   "outputs": [],
   "source": [
    "treasury_1y = fred.get_series('GS1')\n",
    "treasury_1y.name = '1Y Treasury'\n",
    "treasury_2y = fred.get_series('GS2')\n",
    "treasury_2y.name = '2Y Treasury'\n",
    "treasury_3y = fred.get_series('GS3')\n",
    "treasury_3y.name = '3Y Treasury'\n",
    "treasury_5y = fred.get_series('GS5')\n",
    "treasury_5y.name = '5Y Treasury'\n",
    "treasury_7y = fred.get_series('GS7')\n",
    "treasury_7y.name = '7Y Treasury'\n",
    "treasury_10y = fred.get_series('GS10')\n",
    "treasury_10y.name = '10Y Treasury'"
   ]
  },
  {
   "cell_type": "code",
   "execution_count": 100,
   "metadata": {},
   "outputs": [],
   "source": [
    "#monthly changes\n",
    "t1=treasury_1y.pct_change()\n",
    "t2=treasury_2y.pct_change()\n",
    "t3=treasury_3y.pct_change()\n",
    "t5=treasury_5y.pct_change()\n",
    "t7=treasury_7y.pct_change()\n",
    "t10=treasury_10y.pct_change()"
   ]
  },
  {
   "cell_type": "code",
   "execution_count": 101,
   "metadata": {},
   "outputs": [],
   "source": [
    "t1=t1[279:835]"
   ]
  },
  {
   "cell_type": "code",
   "execution_count": 102,
   "metadata": {},
   "outputs": [],
   "source": [
    "t2=t2.dropna()"
   ]
  },
  {
   "cell_type": "code",
   "execution_count": 103,
   "metadata": {},
   "outputs": [],
   "source": [
    "t3=t3[279:835]"
   ]
  },
  {
   "cell_type": "code",
   "execution_count": 104,
   "metadata": {},
   "outputs": [
    {
     "data": {
      "text/plain": [
       "1953-04-01         NaN\n",
       "1953-05-01    0.095420\n",
       "1953-06-01    0.024390\n",
       "1953-07-01   -0.064626\n",
       "1953-08-01    0.018182\n",
       "                ...   \n",
       "2022-06-01    0.111498\n",
       "2022-07-01   -0.072100\n",
       "2022-08-01    0.023649\n",
       "2022-09-01    0.221122\n",
       "2022-10-01    0.129730\n",
       "Name: 5Y Treasury, Length: 835, dtype: float64"
      ]
     },
     "execution_count": 104,
     "metadata": {},
     "output_type": "execute_result"
    }
   ],
   "source": [
    "t5"
   ]
  },
  {
   "cell_type": "code",
   "execution_count": 105,
   "metadata": {},
   "outputs": [],
   "source": [
    "t7=t7[84:640]"
   ]
  },
  {
   "cell_type": "code",
   "execution_count": 106,
   "metadata": {},
   "outputs": [],
   "source": [
    "t10=t10[279:835]"
   ]
  },
  {
   "cell_type": "code",
   "execution_count": 107,
   "metadata": {
    "scrolled": true
   },
   "outputs": [
    {
     "data": {
      "text/html": [
       "<div>\n",
       "<style scoped>\n",
       "    .dataframe tbody tr th:only-of-type {\n",
       "        vertical-align: middle;\n",
       "    }\n",
       "\n",
       "    .dataframe tbody tr th {\n",
       "        vertical-align: top;\n",
       "    }\n",
       "\n",
       "    .dataframe thead th {\n",
       "        text-align: right;\n",
       "    }\n",
       "</style>\n",
       "<table border=\"1\" class=\"dataframe\">\n",
       "  <thead>\n",
       "    <tr style=\"text-align: right;\">\n",
       "      <th></th>\n",
       "      <th>1Y Treasury</th>\n",
       "      <th>2Y Treasury</th>\n",
       "      <th>3Y Treasury</th>\n",
       "      <th>5Y Treasury</th>\n",
       "      <th>7Y Treasury</th>\n",
       "      <th>10Y Treasury</th>\n",
       "    </tr>\n",
       "  </thead>\n",
       "  <tbody>\n",
       "    <tr>\n",
       "      <th>1976-07-01</th>\n",
       "      <td>-0.049080</td>\n",
       "      <td>-0.029745</td>\n",
       "      <td>-0.025992</td>\n",
       "      <td>-0.015769</td>\n",
       "      <td>-0.006452</td>\n",
       "      <td>-0.003817</td>\n",
       "    </tr>\n",
       "    <tr>\n",
       "      <th>1976-08-01</th>\n",
       "      <td>-0.032258</td>\n",
       "      <td>-0.032117</td>\n",
       "      <td>-0.036517</td>\n",
       "      <td>-0.024032</td>\n",
       "      <td>-0.015584</td>\n",
       "      <td>-0.007663</td>\n",
       "    </tr>\n",
       "    <tr>\n",
       "      <th>1976-09-01</th>\n",
       "      <td>-0.026667</td>\n",
       "      <td>-0.031674</td>\n",
       "      <td>-0.029155</td>\n",
       "      <td>-0.024624</td>\n",
       "      <td>-0.022427</td>\n",
       "      <td>-0.023166</td>\n",
       "    </tr>\n",
       "    <tr>\n",
       "      <th>1976-10-01</th>\n",
       "      <td>-0.058219</td>\n",
       "      <td>-0.068536</td>\n",
       "      <td>-0.063063</td>\n",
       "      <td>-0.053296</td>\n",
       "      <td>-0.033738</td>\n",
       "      <td>-0.023715</td>\n",
       "    </tr>\n",
       "    <tr>\n",
       "      <th>1976-11-01</th>\n",
       "      <td>-0.038182</td>\n",
       "      <td>-0.028428</td>\n",
       "      <td>-0.024038</td>\n",
       "      <td>-0.034074</td>\n",
       "      <td>-0.041899</td>\n",
       "      <td>-0.016194</td>\n",
       "    </tr>\n",
       "    <tr>\n",
       "      <th>...</th>\n",
       "      <td>...</td>\n",
       "      <td>...</td>\n",
       "      <td>...</td>\n",
       "      <td>...</td>\n",
       "      <td>...</td>\n",
       "      <td>...</td>\n",
       "    </tr>\n",
       "    <tr>\n",
       "      <th>2022-06-01</th>\n",
       "      <td>0.286408</td>\n",
       "      <td>0.145038</td>\n",
       "      <td>0.129032</td>\n",
       "      <td>0.111498</td>\n",
       "      <td>0.099315</td>\n",
       "      <td>0.082759</td>\n",
       "    </tr>\n",
       "    <tr>\n",
       "      <th>2022-07-01</th>\n",
       "      <td>0.139623</td>\n",
       "      <td>0.013333</td>\n",
       "      <td>-0.038095</td>\n",
       "      <td>-0.072100</td>\n",
       "      <td>-0.074766</td>\n",
       "      <td>-0.076433</td>\n",
       "    </tr>\n",
       "    <tr>\n",
       "      <th>2022-08-01</th>\n",
       "      <td>0.086093</td>\n",
       "      <td>0.069079</td>\n",
       "      <td>0.066007</td>\n",
       "      <td>0.023649</td>\n",
       "      <td>0.003367</td>\n",
       "      <td>0.000000</td>\n",
       "    </tr>\n",
       "    <tr>\n",
       "      <th>2022-09-01</th>\n",
       "      <td>0.185976</td>\n",
       "      <td>0.187692</td>\n",
       "      <td>0.201238</td>\n",
       "      <td>0.221122</td>\n",
       "      <td>0.221477</td>\n",
       "      <td>0.213793</td>\n",
       "    </tr>\n",
       "    <tr>\n",
       "      <th>2022-10-01</th>\n",
       "      <td>0.138817</td>\n",
       "      <td>0.134715</td>\n",
       "      <td>0.128866</td>\n",
       "      <td>0.129730</td>\n",
       "      <td>0.123626</td>\n",
       "      <td>0.130682</td>\n",
       "    </tr>\n",
       "  </tbody>\n",
       "</table>\n",
       "<p>556 rows × 6 columns</p>\n",
       "</div>"
      ],
      "text/plain": [
       "            1Y Treasury  2Y Treasury  3Y Treasury  5Y Treasury  7Y Treasury  \\\n",
       "1976-07-01    -0.049080    -0.029745    -0.025992    -0.015769    -0.006452   \n",
       "1976-08-01    -0.032258    -0.032117    -0.036517    -0.024032    -0.015584   \n",
       "1976-09-01    -0.026667    -0.031674    -0.029155    -0.024624    -0.022427   \n",
       "1976-10-01    -0.058219    -0.068536    -0.063063    -0.053296    -0.033738   \n",
       "1976-11-01    -0.038182    -0.028428    -0.024038    -0.034074    -0.041899   \n",
       "...                 ...          ...          ...          ...          ...   \n",
       "2022-06-01     0.286408     0.145038     0.129032     0.111498     0.099315   \n",
       "2022-07-01     0.139623     0.013333    -0.038095    -0.072100    -0.074766   \n",
       "2022-08-01     0.086093     0.069079     0.066007     0.023649     0.003367   \n",
       "2022-09-01     0.185976     0.187692     0.201238     0.221122     0.221477   \n",
       "2022-10-01     0.138817     0.134715     0.128866     0.129730     0.123626   \n",
       "\n",
       "            10Y Treasury  \n",
       "1976-07-01     -0.003817  \n",
       "1976-08-01     -0.007663  \n",
       "1976-09-01     -0.023166  \n",
       "1976-10-01     -0.023715  \n",
       "1976-11-01     -0.016194  \n",
       "...                  ...  \n",
       "2022-06-01      0.082759  \n",
       "2022-07-01     -0.076433  \n",
       "2022-08-01      0.000000  \n",
       "2022-09-01      0.213793  \n",
       "2022-10-01      0.130682  \n",
       "\n",
       "[556 rows x 6 columns]"
      ]
     },
     "execution_count": 107,
     "metadata": {},
     "output_type": "execute_result"
    }
   ],
   "source": [
    "df_treasury=pd.merge(pd.merge(pd.merge(pd.merge(pd.merge(t1,t2,left_index=True,right_index=True),t3,left_index=True,right_index=True),t5,left_index=True,right_index=True),t7,left_index=True,right_index=True),t10,left_index=True,right_index=True)\n",
    "df_treasury #new dataset of monthly changes"
   ]
  },
  {
   "cell_type": "code",
   "execution_count": 109,
   "metadata": {},
   "outputs": [],
   "source": [
    "cov_mat = np.cov(df_treasury.T)"
   ]
  },
  {
   "cell_type": "code",
   "execution_count": 110,
   "metadata": {},
   "outputs": [],
   "source": [
    "eigen_vals, eigen_vecs = np.linalg.eig(cov_mat)"
   ]
  },
  {
   "cell_type": "code",
   "execution_count": 111,
   "metadata": {},
   "outputs": [
    {
     "data": {
      "text/plain": [
       "array([4.81943789e-02, 7.10010567e-03, 1.50341674e-03, 2.80799758e-04,\n",
       "       6.21250542e-05, 2.54882799e-05])"
      ]
     },
     "execution_count": 111,
     "metadata": {},
     "output_type": "execute_result"
    }
   ],
   "source": [
    "eigen_vals"
   ]
  },
  {
   "cell_type": "code",
   "execution_count": 112,
   "metadata": {},
   "outputs": [
    {
     "data": {
      "text/plain": [
       "[0.8555555834293986,\n",
       " 0.10959262727653414,\n",
       " 0.026848575977261275,\n",
       " 0.00590015412000756,\n",
       " 0.0013477145104475042,\n",
       " 0.0007553446863508143]"
      ]
     },
     "execution_count": 112,
     "metadata": {},
     "output_type": "execute_result"
    }
   ],
   "source": [
    "var_exp"
   ]
  },
  {
   "cell_type": "code",
   "execution_count": 113,
   "metadata": {
    "scrolled": true
   },
   "outputs": [
    {
     "data": {
      "image/png": "[encoded data removed]",
      "text/plain": [
       "<Figure size 432x288 with 1 Axes>"
      ]
     },
     "metadata": {
      "needs_background": "light"
     },
     "output_type": "display_data"
    }
   ],
   "source": [
    "import matplotlib.pyplot as plt\n",
    "\n",
    "# calculate cumulative sum of explained variances\n",
    "tot = sum(eigen_vals)\n",
    "var_exp = [(i / tot) for i in sorted(eigen_vals, reverse=True)]\n",
    "cum_var_exp = np.cumsum(var_exp)\n",
    "\n",
    "# plot explained variances\n",
    "plt.bar(range(1,7), var_exp, alpha=0.5,\n",
    "        align='center', label='individual explained variance')\n",
    "plt.step(range(1,7), cum_var_exp, where='mid',\n",
    "         label='cumulative explained variance')\n",
    "plt.ylabel('Explained variance ratio')\n",
    "plt.xlabel('Principal component index')\n",
    "plt.legend(loc='best')\n",
    "plt.show()"
   ]
  },
  {
   "cell_type": "code",
   "execution_count": 114,
   "metadata": {},
   "outputs": [],
   "source": [
    "eigen_pairs = [(np.abs(eigen_vals[i]), eigen_vecs[:, i]) for i in range(len(eigen_vals))]\n",
    "\n",
    "# Sort the (eigenvalue, eigenvector) tuples from high to low\n",
    "eigen_pairs.sort(key=lambda k: k[0], reverse=True)"
   ]
  },
  {
   "cell_type": "code",
   "execution_count": 115,
   "metadata": {},
   "outputs": [
    {
     "data": {
      "text/plain": [
       "[(0.04819437885898102,\n",
       "  array([0.50335356, 0.48732304, 0.46239632, 0.37519876, 0.30538581,\n",
       "         0.24760148])),\n",
       " (0.007100105674053403,\n",
       "  array([ 0.77095048,  0.06131471, -0.20180585, -0.36759125, -0.35483671,\n",
       "         -0.31641405])),\n",
       " (0.001503416737889155,\n",
       "  array([ 0.36681302, -0.57148925, -0.39846371,  0.130804  ,  0.35578862,\n",
       "          0.48618894])),\n",
       " (0.00028079975848143806,\n",
       "  array([ 0.13299553, -0.6152218 ,  0.49952971,  0.36142743, -0.05725597,\n",
       "         -0.4694426 ])),\n",
       " (6.212505423066524e-05,\n",
       "  array([-0.00498894,  0.23112563, -0.5693597 ,  0.55737402,  0.22939834,\n",
       "         -0.50901492])),\n",
       " (2.5488279875201825e-05,\n",
       "  array([-0.00246166, -0.01548805,  0.11397503, -0.51545834,  0.77352636,\n",
       "         -0.35031903]))]"
      ]
     },
     "execution_count": 115,
     "metadata": {},
     "output_type": "execute_result"
    }
   ],
   "source": [
    "eigen_pairs"
   ]
  },
  {
   "cell_type": "code",
   "execution_count": 116,
   "metadata": {},
   "outputs": [
    {
     "name": "stdout",
     "output_type": "stream",
     "text": [
      "Matrix W:\n",
      " [[ 0.50335356  0.77095048  0.36681302]\n",
      " [ 0.48732304  0.06131471 -0.57148925]\n",
      " [ 0.46239632 -0.20180585 -0.39846371]\n",
      " [ 0.37519876 -0.36759125  0.130804  ]\n",
      " [ 0.30538581 -0.35483671  0.35578862]\n",
      " [ 0.24760148 -0.31641405  0.48618894]]\n"
     ]
    }
   ],
   "source": [
    "w = np.hstack((eigen_pairs[0][1][:, np.newaxis], eigen_pairs[1][1][:, np.newaxis], eigen_pairs[2][1][:, np.newaxis]))\n",
    "print('Matrix W:\\n', w)"
   ]
  },
  {
   "cell_type": "code",
   "execution_count": 125,
   "metadata": {},
   "outputs": [],
   "source": [
    "X_train_pca = df_treasury.dot(w)"
   ]
  },
  {
   "cell_type": "code",
   "execution_count": 122,
   "metadata": {
    "scrolled": true
   },
   "outputs": [
    {
     "data": {
      "text/plain": [
       "(556,)"
      ]
     },
     "execution_count": 122,
     "metadata": {},
     "output_type": "execute_result"
    }
   ],
   "source": [
    "X_train_pca[:,0].shape"
   ]
  },
  {
   "cell_type": "code",
   "execution_count": 130,
   "metadata": {
    "scrolled": true
   },
   "outputs": [
    {
     "data": {
      "text/plain": [
       "[<matplotlib.lines.Line2D at 0x28fb201cb20>,\n",
       " <matplotlib.lines.Line2D at 0x28fb204d9d0>,\n",
       " <matplotlib.lines.Line2D at 0x28fb204daf0>]"
      ]
     },
     "execution_count": 130,
     "metadata": {},
     "output_type": "execute_result"
    },
    {
     "data": {
      "image/png": "[encoded data removed]",
      "text/plain": [
       "<Figure size 432x288 with 1 Axes>"
      ]
     },
     "metadata": {
      "needs_background": "light"
     },
     "output_type": "display_data"
    }
   ],
   "source": [
    "plt.plot(X_train_pca.head(100))"
   ]
  }
 ],
 "metadata": {
  "kernelspec": {
   "display_name": "Python 3",
   "language": "python",
   "name": "python3"
  },
  "language_info": {
   "codemirror_mode": {
    "name": "ipython",
    "version": 3
   },
   "file_extension": ".py",
   "mimetype": "text/x-python",
   "name": "python",
   "nbconvert_exporter": "python",
   "pygments_lexer": "ipython3",
   "version": "3.8.3"
  }
 },
 "nbformat": 4,
 "nbformat_minor": 4
}
