{
 "cells": [
  {
   "cell_type": "code",
   "execution_count": 1,
   "metadata": {},
   "outputs": [
    {
     "data": {
      "text/plain": [
       "[0, 2]"
      ]
     },
     "execution_count": 1,
     "metadata": {},
     "output_type": "execute_result"
    }
   ],
   "source": [
    "#two sum\n",
    "def two_sum(nums,target):\n",
    "    for i in range(len(nums)):\n",
    "        for j in range(i+1,len(nums)):\n",
    "            if nums[i]+nums[j]==target:\n",
    "                return [i,j]\n",
    "two_sum([1,2,3],4)"
   ]
  },
  {
   "cell_type": "code",
   "execution_count": null,
   "metadata": {},
   "outputs": [],
   "source": [
    "\n",
    "for i in range(4,-1,-1):\n",
    "    i+1\n",
    "print i"
   ]
  },
  {
   "cell_type": "code",
   "execution_count": 8,
   "metadata": {
    "scrolled": false
   },
   "outputs": [
    {
     "data": {
      "text/plain": [
       "1994"
      ]
     },
     "execution_count": 8,
     "metadata": {},
     "output_type": "execute_result"
    }
   ],
   "source": [
    "#roman to integer\n",
    "roman = {'I':1,'V':5,'X':10,'L':50,'C':100,'D':500,'M':1000}\n",
    "def romanToInt(S):\n",
    "    summ= 0\n",
    "    for i in range(len(S)-1,-1,-1): #len(S)-1,...,0 大--小\n",
    "        num = roman[S[i]]\n",
    "        if 3*num < summ: #都是从大到小排列，一旦前比后小，就要➖。\n",
    "            #用3*：从4开始写法变了 e.g. print iv=4,i*3=3<5--v-i=4\n",
    "            summ = summ-num\n",
    "        else: \n",
    "            summ = summ+num\n",
    "    return summ\n",
    "romanToInt(\"MCMXCIV\")"
   ]
  },
  {
   "cell_type": "code",
   "execution_count": 53,
   "metadata": {},
   "outputs": [
    {
     "data": {
      "text/plain": [
       "['flae', 'flight', 'fliwer']"
      ]
     },
     "execution_count": 53,
     "metadata": {},
     "output_type": "execute_result"
    }
   ],
   "source": [
    "strs = [\"fliwer\",\"flae\",\"flight\"]\n",
    "strs.sort()\n",
    "strs"
   ]
  },
  {
   "cell_type": "code",
   "execution_count": 52,
   "metadata": {},
   "outputs": [
    {
     "data": {
      "text/plain": [
       "'fl'"
      ]
     },
     "execution_count": 52,
     "metadata": {},
     "output_type": "execute_result"
    }
   ],
   "source": [
    "#longest common prefix\n",
    "def longest_common_pre(strs):\n",
    "    size=len(strs) #length of strs. size=3,index=0,1,2\n",
    "    if (size==0):\n",
    "        return \"\" #return empty\n",
    "    if (size==1): #one string\n",
    "        return strs[0] #return the only one string\n",
    "    strs.sort() #sort 从小到大--已经有common prefix了,后\n",
    "    #两个类似，只要看1st和last就能保证全部过一遍common\n",
    "    end=min(len(strs[0]),len(strs[size-1])) #end=minimum of \n",
    "    #(1st string's length,last string's length)\n",
    "    i=0 #initial i=0\n",
    "    while (i<end and strs[0][i]==strs[size-1][i]): #while i=0<6 \n",
    "        #and 1st string的[i]个字母=last string的[i]个字母\n",
    "        i=i+1 #update i+1\n",
    "    pre=strs[0][0:i] # return： 1st string的[0]-[i-1]个字母\n",
    "    return pre         \n",
    "        \n",
    "longest_common_pre([\"flower\",\"flight\",\"flow\"]) "
   ]
  },
  {
   "cell_type": "code",
   "execution_count": 113,
   "metadata": {},
   "outputs": [
    {
     "data": {
      "text/plain": [
       "[1, 1, 2, 3, 4, 4]"
      ]
     },
     "execution_count": 113,
     "metadata": {},
     "output_type": "execute_result"
    }
   ],
   "source": [
    "#merge two sorted list\n",
    "#method 1\n",
    "def merge_two(list1,list2):\n",
    "    res=sorted(list1+list2)\n",
    "    return res\n",
    "merge_two([1,2,4],[1,3,4])\n"
   ]
  },
  {
   "cell_type": "code",
   "execution_count": 14,
   "metadata": {},
   "outputs": [
    {
     "data": {
      "text/plain": [
       "[1, 1, 2, 3, 4, 4]"
      ]
     },
     "execution_count": 14,
     "metadata": {},
     "output_type": "execute_result"
    }
   ],
   "source": [
    "def merge_two1(list1,list2):\n",
    "    m=len(list1)\n",
    "    n=len(list2)\n",
    "    res=[] #output list\n",
    "    i=0 #for index 0开始\n",
    "    j=0\n",
    "    while i<m and j<n:#index <length\n",
    "        if list1[i]<list2[j]: #ith of list 1 < jth of list2\n",
    "            res.append(list1[i])  #append ith of list1(append smaller)\n",
    "            i=i+1 #i 往下推进\n",
    "        else:\n",
    "            res.append(list2[j]) \n",
    "            j=j+1\n",
    "    res=res+list1[i:]+list2[j:] #加上list1和list2里剩下的\n",
    "    return res\n",
    "merge_two1([1,2,4],[1,3,4])       "
   ]
  },
  {
   "cell_type": "code",
   "execution_count": 112,
   "metadata": {},
   "outputs": [
    {
     "data": {
      "text/plain": [
       "[1, 1, 2, 3, 4, 4]"
      ]
     },
     "execution_count": 112,
     "metadata": {},
     "output_type": "execute_result"
    }
   ],
   "source": [
    "#use stacking--each sorted list as a stack\n",
    "def merge_two1(list1,list2):\n",
    "    sortedlist=[] #creat empty list,用来return\n",
    "    while list1 and list2: #只要list1和list2还有数，keep doing following：\n",
    "        #不断加进smaller的数\n",
    "        if list1[0]<list2[0]: #如果list1[0]smaller\n",
    "            sortedlist.append(list1.pop(0)) #append list1里index=0的数\n",
    "        else:\n",
    "            sortedlist.append(list2.pop(0)) #如果list2[0]smaller \n",
    "            #or equal--append list2里index=0的数（e.g. 2）\n",
    "    sortedlist=sortedlist+list1 #append剩下的数\n",
    "    sortedlist=sortedlist+list2\n",
    "    return sortedlist\n",
    "merge_two1([1,2,4],[1,3,4])"
   ]
  },
  {
   "cell_type": "code",
   "execution_count": 62,
   "metadata": {},
   "outputs": [
    {
     "data": {
      "text/plain": [
       "dict_keys(['(', '[', '{'])"
      ]
     },
     "execution_count": 62,
     "metadata": {},
     "output_type": "execute_result"
    }
   ],
   "source": [
    "par={'(':')','[':']','{':'}'}\n",
    "par.keys()\n"
   ]
  },
  {
   "cell_type": "code",
   "execution_count": 75,
   "metadata": {},
   "outputs": [
    {
     "data": {
      "text/plain": [
       "0"
      ]
     },
     "execution_count": 75,
     "metadata": {},
     "output_type": "execute_result"
    }
   ],
   "source": [
    "list=[')','}']\n",
    "list.index(')')"
   ]
  },
  {
   "cell_type": "code",
   "execution_count": 123,
   "metadata": {},
   "outputs": [
    {
     "data": {
      "text/plain": [
       "1"
      ]
     },
     "execution_count": 123,
     "metadata": {},
     "output_type": "execute_result"
    }
   ],
   "source": [
    "list=[1,2,4]\n",
    "list.pop(0) #return去掉的那个数：一个number\n",
    "#list # after the pop，去掉了index=0的数"
   ]
  },
  {
   "cell_type": "code",
   "execution_count": 131,
   "metadata": {},
   "outputs": [
    {
     "data": {
      "text/plain": [
       "4"
      ]
     },
     "execution_count": 131,
     "metadata": {},
     "output_type": "execute_result"
    }
   ],
   "source": [
    "#remove duplicates from sorted array\n",
    "def removeDuplicates(nums):\n",
    "    size = len(nums) #size=length of nums list\n",
    "    a = 1 #set a=1\n",
    "    for i in range(1, size): #i =1,2,..,length-1\n",
    "        #Found unique element\n",
    "        if nums[i - 1] != nums[i]:   # if nums里前一个和后一个不相等   \n",
    "            #e.g. i=2,nums[1]!=nums[2]\n",
    "                # Updating a in our main array \n",
    "            nums[a] = nums[i]  # e.g. nums[a=1]=nums[2]=2\n",
    "                #Incrementing a count by 1,有不等的就+1个，相等的=duplicate不算\n",
    "            a = a + 1       #e.g.a=1+1=2..\n",
    "    return a #a个distinct values\n",
    "removeDuplicates([1,1,2,3,4]) "
   ]
  },
  {
   "cell_type": "code",
   "execution_count": 132,
   "metadata": {},
   "outputs": [
    {
     "data": {
      "text/plain": [
       "[1, 2, 3, 5]"
      ]
     },
     "execution_count": 132,
     "metadata": {},
     "output_type": "execute_result"
    }
   ],
   "source": [
    "#plus one\n",
    "def plusone(digits):\n",
    "    num=0 #set num=0\n",
    "    for i in range(len(digits)): # i in range(length of digits list)\n",
    "        num+=digits[i]*pow(10,(len(digits)-1-i)) #update num by: \n",
    "        #ith index of digits * 10^length-1-i\n",
    "        #e.g. num=1*10^3+2*10^2+3*10^1+4*10^0\n",
    "    return [int(i) for i in str(num+1)] #for i in str(num+1)--\n",
    "#return int(i)\n",
    "     #i in str(1235):i='1','2','3','5'--int(i):change to int--\n",
    "    #return as list\n",
    "plusone([1,2,3,4])"
   ]
  },
  {
   "cell_type": "code",
   "execution_count": 137,
   "metadata": {},
   "outputs": [
    {
     "data": {
      "text/plain": [
       "2"
      ]
     },
     "execution_count": 137,
     "metadata": {},
     "output_type": "execute_result"
    }
   ],
   "source": [
    "#sqrt(x)\n",
    "def sqrt_x(x):\n",
    "    l=0 #min\n",
    "    h=x #the input int=8 #max\n",
    "    m=(l+h)>>1# >>1:divided by 2^1,m=4，center值\n",
    "    while l<=h: #while 0<=8,4*4=16>x=8; 0<=3,1*1=1<8; 2<=3,2*2=4<=8; \n",
    "        #3<=3,3*3=9>8; 3<=2? false--out，当min小于等于max\n",
    "        if m*m==x: #m就是square root\n",
    "            return m\n",
    "        elif m*m>x: #m大了--max-1--max移到m左边\n",
    "            h=m-1 #h=4-1=3; new_h=3-1=2\n",
    "        else: #if m*m<x--m小了，min+1\n",
    "            l=m+1 #new_l=1+1=2; new_l=2+1=3;\n",
    "        m=(l+h)>>1 #new_m=(0+3(new_h))/2=1, only return integer \n",
    "        #part; --update medium值\n",
    "                    #new_m=(2+3)/2=2\n",
    "                    #new_m=(3+3)/2=3\n",
    "                    #new_m=(3+2)/2=2\n",
    "    return m #m=2\n",
    "sqrt_x(8)"
   ]
  },
  {
   "cell_type": "code",
   "execution_count": 150,
   "metadata": {},
   "outputs": [
    {
     "data": {
      "text/plain": [
       "3"
      ]
     },
     "execution_count": 150,
     "metadata": {},
     "output_type": "execute_result"
    }
   ],
   "source": [
    "#climbing stairs\n",
    " #number of ways to reach step n=number of ways to reach n-1 +\n",
    "    #number of ways to reach n-2\n",
    "def climb_ways(n):\n",
    "    if n<=1:\n",
    "        return 1 #n=1,only 1 way\n",
    "    # now consider n=2,3,...\n",
    "    k=0 #number of ways to reach n, initialize =0\n",
    "    prev_prev=1  #number of ways to reach n-2--initialize=1,\n",
    "    #reach n=0 ways\n",
    "    prev=1 #number of ways to reach n-1--initialize=1,reach n=1 ways\n",
    "   \n",
    "    for i in range(2,n+1): #i=2,3--算到n,return k\n",
    "        k=prev+prev_prev #k=1+1=2; k=3 ---- update k by summing \n",
    "        #these two\n",
    "        prev_prev=prev #prev_prev=prev=1; prev_prev=2 ---- \n",
    "        #update reach n-2 ways= reach n-1 ways b/c n increase 1\n",
    "        prev=k #prev=2; prev=3---n-1 now become n\n",
    "    return k #k=3\n",
    "climb_ways(3)"
   ]
  },
  {
   "cell_type": "code",
   "execution_count": 12,
   "metadata": {},
   "outputs": [
    {
     "data": {
      "text/plain": [
       "[1, 2, 2, 3, 5, 6]"
      ]
     },
     "execution_count": 12,
     "metadata": {},
     "output_type": "execute_result"
    }
   ],
   "source": [
    "#merge two sorted array\n",
    "def merge(nums1,m,nums2,n):\n",
    "    pointer=len(nums1)-1 #track position to copy the larger \n",
    "    #element into ： for nums1\n",
    "    m=m-1 #index for nums1\n",
    "    n=n-1   #index for nums2   index=length-1\n",
    "    while m>=0 and n>=0:\n",
    "        if nums1[m]>=nums2[n]: # mth of nums1 >= nth of nums\n",
    "            #2, 最后一个对比\n",
    "            nums1[pointer]=nums1[m] #把mth放到nums1最后\n",
    "            m=m-1 #update m-1，下一个往前推进\n",
    "        else: #if <\n",
    "            nums1[pointer]=nums2[n] #把nums2的最后一个放到\n",
    "            #nums1的最后一个\n",
    "            n=n-1 #update n-1，下一个往前推进\n",
    "        pointer=pointer-1 #pointer-1，往前推下一个\n",
    "    if n>=0: #copy remaining in nums2 （如果nums2里还有）\n",
    "        nums1[:n+1]=nums2[:n+1]  #把nums2从0th到nth的数 \n",
    "        #加到 nums1的0th-nth\n",
    "    return nums1\n",
    "merge([1,2,3,0,0,0],3,[2,5,6],3)"
   ]
  },
  {
   "cell_type": "code",
   "execution_count": 19,
   "metadata": {},
   "outputs": [
    {
     "name": "stdout",
     "output_type": "stream",
     "text": [
      "[4, 2, 5, 1, 3]\n"
     ]
    }
   ],
   "source": [
    "#binary tree inorder traversal, 从小到大\n",
    "# left subtree(if subroot有小root:subroot's left subtree--\n",
    "#subroot--right subtree)--大root--right subtree(if..)\n",
    "class TreeNode:\n",
    "    def __init__(self, val):\n",
    "        self.val = val\n",
    "        self.left = None\n",
    "        self.right = None \n",
    "\n",
    "def inorderTraversal(root):\n",
    "    answer = []\n",
    "\n",
    "    inorderTraversalUtil(root, answer)\n",
    "    return answer\n",
    "\n",
    "def inorderTraversalUtil(root, answer):\n",
    "\n",
    "    if root is None:\n",
    "        return\n",
    "\n",
    "    inorderTraversalUtil(root.left, answer)\n",
    "    answer.append(root.val)\n",
    "    inorderTraversalUtil(root.right, answer)\n",
    "    return\n",
    "\n",
    "root = TreeNode(1)\n",
    "root.left = TreeNode(2)\n",
    "root.right = TreeNode(3)\n",
    "root.left.left = TreeNode(4)\n",
    "root.left.right = TreeNode(5)\n",
    "\n",
    "print(inorderTraversal(root))"
   ]
  },
  {
   "cell_type": "code",
   "execution_count": 24,
   "metadata": {},
   "outputs": [
    {
     "data": {
      "text/plain": [
       "['1', '2', 'Fizz', '4', 'Buzz']"
      ]
     },
     "execution_count": 24,
     "metadata": {},
     "output_type": "execute_result"
    }
   ],
   "source": [
    "#fizzbuzz\n",
    "def fizzbuzz(n):\n",
    "    res=[]\n",
    "    for i in range(1,n+1):\n",
    "        if i%3==0 and i%5==0:\n",
    "            res.append(\"FizzBuzz\")\n",
    "        elif i%3==0:\n",
    "            res.append(\"Fizz\")\n",
    "        elif i%5==0:\n",
    "            res.append(\"Buzz\")\n",
    "        else:\n",
    "            res.append(str(i))\n",
    "    return res\n",
    "fizzbuzz(5)"
   ]
  },
  {
   "cell_type": "code",
   "execution_count": 26,
   "metadata": {},
   "outputs": [
    {
     "data": {
      "text/plain": [
       "1"
      ]
     },
     "execution_count": 26,
     "metadata": {},
     "output_type": "execute_result"
    }
   ],
   "source": [
    "15//10"
   ]
  },
  {
   "cell_type": "code",
   "execution_count": 32,
   "metadata": {},
   "outputs": [
    {
     "data": {
      "text/plain": [
       "'32'"
      ]
     },
     "execution_count": 32,
     "metadata": {},
     "output_type": "execute_result"
    }
   ],
   "source": [
    "x=3200\n",
    "str(x).rstrip('0') #remove trailing: remove end numbers"
   ]
  },
  {
   "cell_type": "code",
   "execution_count": 2,
   "metadata": {},
   "outputs": [
    {
     "data": {
      "text/plain": [
       "123"
      ]
     },
     "execution_count": 2,
     "metadata": {},
     "output_type": "execute_result"
    }
   ],
   "source": [
    "#reverse an integer\n",
    "def reverse(x):\n",
    "    assert -2**31 <= x <= 2**31 - 1, 'Invalid integer range' \n",
    "    #assertion,if no--output \"invalid..\"\n",
    "    if x<0: #if negative--change to positive first\n",
    "        x_1=x*-1\n",
    "    else: #if positive--just positive\n",
    "        x_1=x\n",
    "    x_1=int(str(x_1).rstrip('0')) #remove trailing characters\n",
    "    x_reversed=0 #set 0 first\n",
    "    \n",
    "    while(x_1 > 0):\n",
    "        a = x_1 % 10 # mod--last digit\n",
    "        x_reversed = x_reversed * 10 + a # +last digit--so \n",
    "        #1*10+2=12--12*10+3=123 前往后\n",
    "        x_1 = x_1 // 10 # 整除--去掉最后一位的剩下的数--位数不断往前进：3位--2位。。。\n",
    "    if x<0:\n",
    "        return -x_reversed\n",
    "    return x_reversed\n",
    "reverse(3210)"
   ]
  },
  {
   "cell_type": "code",
   "execution_count": 87,
   "metadata": {},
   "outputs": [
    {
     "data": {
      "text/plain": [
       "3"
      ]
     },
     "execution_count": 87,
     "metadata": {},
     "output_type": "execute_result"
    }
   ],
   "source": [
    "#find the 1st unique character in a string\n",
    "def unique(s):\n",
    "    s=s.lower() #lowercase all, since A and a 也算repeat\n",
    "    counts={} #create dictionary store character and their counts\n",
    "    for i in s: #add values to counts---是按顺序add的，所以最后的\n",
    "        #return就是1st unique\n",
    "        if i not in counts: #1.character:1\n",
    "            counts[i]=1\n",
    "        else: #if repeat--character:1+1\n",
    "            counts[i]+=1\n",
    "    for j in range(len(s)): # in string s\n",
    "        if counts[s[j]]==1: # select counts=1 的character--\n",
    "            #它的index=j\n",
    "            return j #符合条件，一旦执行return，function结束，不会继续for loop\n",
    "    \n",
    "unique('appsilon polland') #1st unique = 's' with index 3     "
   ]
  },
  {
   "cell_type": "code",
   "execution_count": 90,
   "metadata": {},
   "outputs": [
    {
     "data": {
      "text/plain": [
       "'127[.]0[.]0[.]1'"
      ]
     },
     "execution_count": 90,
     "metadata": {},
     "output_type": "execute_result"
    }
   ],
   "source": [
    "#defanging an ip address\n",
    "def defang(address):\n",
    "    address_split=address.split('.') #split by .--convert to list\n",
    "    return '[.]'.join(address_split) #join by [.] between each str \n",
    "#character into string\n",
    "defang('127.0.0.1')"
   ]
  },
  {
   "cell_type": "code",
   "execution_count": 93,
   "metadata": {},
   "outputs": [
    {
     "data": {
      "text/plain": [
       "['123', '4', '5']"
      ]
     },
     "execution_count": 93,
     "metadata": {},
     "output_type": "execute_result"
    }
   ],
   "source": [
    "s='123.4.5'\n",
    "s=s.split('.') #按'.'隔开成几个str character 放到一个list里\n",
    "s"
   ]
  },
  {
   "cell_type": "code",
   "execution_count": 92,
   "metadata": {},
   "outputs": [
    {
     "data": {
      "text/plain": [
       "'123[.]4[.]5'"
      ]
     },
     "execution_count": 92,
     "metadata": {},
     "output_type": "execute_result"
    }
   ],
   "source": [
    "'[.]'.join(s) #用[.]join起来变成string"
   ]
  },
  {
   "cell_type": "code",
   "execution_count": 101,
   "metadata": {},
   "outputs": [
    {
     "data": {
      "text/plain": [
       "True"
      ]
     },
     "execution_count": 101,
     "metadata": {},
     "output_type": "execute_result"
    }
   ],
   "source": [
    "#check if a string is an anagram--重新排序\n",
    "def ifanagram(a,b):\n",
    "    a=a.lower()\n",
    "    b=b.lower() #lowercase--since A and a mean same thing\n",
    "    if len(a)!=len(b): #they mush have same length\n",
    "        return False\n",
    "    counts_a={} #create emtpy dictionary for two strings: \n",
    "    #store character and their counts\n",
    "    counts_b={}\n",
    "    for i in a: #append elements to counts_a\n",
    "        if i not in counts_a:\n",
    "            counts_a[i]=1 \n",
    "        else:\n",
    "            counts_a[i]+=1 #if repeat, +1\n",
    "    for j in b:\n",
    "        if j not in counts_b:\n",
    "            counts_b[j]=1\n",
    "        else:\n",
    "            counts_b[j]+=1\n",
    "    if counts_a==counts_b: #compare two dictionaries\n",
    "        return True\n",
    "    else:\n",
    "        return False\n",
    "ifanagram('anagram','nagaram')"
   ]
  },
  {
   "cell_type": "code",
   "execution_count": 102,
   "metadata": {},
   "outputs": [
    {
     "data": {
      "text/plain": [
       "True"
      ]
     },
     "execution_count": 102,
     "metadata": {},
     "output_type": "execute_result"
    }
   ],
   "source": [
    "dic1={'a':3,'m':1,'b':2}\n",
    "dic2={'b':2,'a':3,'m':1}\n",
    "dic1==dic2 #order does not matter"
   ]
  },
  {
   "cell_type": "code",
   "execution_count": 120,
   "metadata": {},
   "outputs": [
    {
     "data": {
      "text/plain": [
       "True"
      ]
     },
     "execution_count": 120,
     "metadata": {},
     "output_type": "execute_result"
    }
   ],
   "source": [
    "#check if a string is a palindrome \n",
    "import string\n",
    "def palindrome(s):\n",
    "    s=s.lower()\n",
    "    allowed=[*string.ascii_lowercase,*string.digits]\n",
    "    s_fixed='' #for (new) fixed version\n",
    "    for i in s: #remove non-alphanumeric 去掉非字母数字的,s可能含有这些\n",
    "        if i in allowed:\n",
    "            s_fixed=s_fixed+i #add element to s_fixed(from originals to s_fixed)\n",
    "    s_reversed='' #for reverse version\n",
    "    for i in s_fixed: #把s_fixed的reverse\n",
    "        s_reversed=i+s_reversed #update s_reversed，不断把i加到前面----达成reverse目的 '...(c(b(a)))'\n",
    "    if s_fixed==s_reversed: #same or not\n",
    "        return True\n",
    "    else:\n",
    "        return False\n",
    "palindrome('Bob')"
   ]
  },
  {
   "cell_type": "code",
   "execution_count": 121,
   "metadata": {},
   "outputs": [
    {
     "data": {
      "text/plain": [
       "['a',\n",
       " 'b',\n",
       " 'c',\n",
       " 'd',\n",
       " 'e',\n",
       " 'f',\n",
       " 'g',\n",
       " 'h',\n",
       " 'i',\n",
       " 'j',\n",
       " 'k',\n",
       " 'l',\n",
       " 'm',\n",
       " 'n',\n",
       " 'o',\n",
       " 'p',\n",
       " 'q',\n",
       " 'r',\n",
       " 's',\n",
       " 't',\n",
       " 'u',\n",
       " 'v',\n",
       " 'w',\n",
       " 'x',\n",
       " 'y',\n",
       " 'z',\n",
       " '0',\n",
       " '1',\n",
       " '2',\n",
       " '3',\n",
       " '4',\n",
       " '5',\n",
       " '6',\n",
       " '7',\n",
       " '8',\n",
       " '9']"
      ]
     },
     "execution_count": 121,
     "metadata": {},
     "output_type": "execute_result"
    }
   ],
   "source": [
    "import string\n",
    "s='abdeSEFD'\n",
    "a=[*string.ascii_lowercase, *string.digits]\n",
    "a #all lowercase letter a-z and digits 0-9"
   ]
  },
  {
   "cell_type": "code",
   "execution_count": 117,
   "metadata": {},
   "outputs": [
    {
     "data": {
      "text/plain": [
       "'aabded'"
      ]
     },
     "execution_count": 117,
     "metadata": {},
     "output_type": "execute_result"
    }
   ],
   "source": [
    "s='abded'\n",
    "i='a'\n",
    "s+i #i加后面\n",
    "i+s #i加前面"
   ]
  },
  {
   "cell_type": "code",
   "execution_count": 124,
   "metadata": {},
   "outputs": [
    {
     "data": {
      "text/plain": [
       "'edcba'"
      ]
     },
     "execution_count": 124,
     "metadata": {},
     "output_type": "execute_result"
    }
   ],
   "source": [
    "s='abcde'\n",
    "s=s[::-1] #reverse s\n",
    "s"
   ]
  },
  {
   "cell_type": "code",
   "execution_count": 126,
   "metadata": {},
   "outputs": [
    {
     "data": {
      "text/plain": [
       "6"
      ]
     },
     "execution_count": 126,
     "metadata": {},
     "output_type": "execute_result"
    }
   ],
   "source": [
    "#calculate a factorial using recursion\n",
    "def factorial(x):\n",
    "    if x<0:#edge case\n",
    "        return -1\n",
    "    if x==0:\n",
    "        return 1\n",
    "    if x==1:\n",
    "        return x\n",
    "    else: #x=2,3,...\n",
    "        return x*factorial(x-1) #不断call function----run，直到return出一个number：3=3*factorial(2)=3*2*factorial(1)..\n",
    "factorial(3)        "
   ]
  },
  {
   "cell_type": "code",
   "execution_count": null,
   "metadata": {},
   "outputs": [],
   "source": [
    "#class performance: given table: id,student,assignment1,assignment2, assignment3\n",
    "#output largest difference in total score----highest-lowest\n",
    "import pandas as pd\n",
    "import numpy as np\n",
    "#create new column:add together for each student\n",
    "box_scores['total score']=box_scores['assignment1']+box_scores['assignment2']+box_scores['assignment3']\n",
    "box_scores['total score'].max()-box_scores['total score'].min() #max number in total score column - min number"
   ]
  },
  {
   "cell_type": "code",
   "execution_count": null,
   "metadata": {},
   "outputs": [],
   "source": [
    "#inspection scores for business\n",
    "import pandas as pd\n",
    "# Start writing code\n",
    "new=sf_restaurant_health_violations\n",
    "new=new[new.notnull()['inspection_score']==True] #notnull--变成true/false--选score为true的--放进new里--新new（全有score）\n",
    "new.groupby(['business_name'])['inspection_score'].median().sort_values(ascending=False).reset_index()\n",
    "# 算每个business name(左列）的 inspection score（右列）的median----sort score descending--共两列\n",
    "#根据左边，的算右边的数"
   ]
  },
  {
   "cell_type": "code",
   "execution_count": null,
   "metadata": {},
   "outputs": [],
   "source": [
    "#number of records by variety\n",
    "iris.groupby([\"variety\"])[\"sepal_length\"].count().sort_values().reset_index()\n",
    "#算每个variety（在右边一列）的sepal_length个数（一共有多少个）---sort ascending\n",
    "#两列，根据左边的，算右边的count个数"
   ]
  },
  {
   "cell_type": "code",
   "execution_count": null,
   "metadata": {},
   "outputs": [],
   "source": [
    "#lowest priced orders\n",
    "import pandas as pd\n",
    "import numpy as np\n",
    "merge=pd.merge(customers,orders,left_on=\"id\",right_on=\"cust_id\") #merge两个table，left表的id和right表的custid指代一\n",
    "#个东西----以此为基准左右对齐\n",
    "result=merge.groupby([\"cust_id\",\"first_name\"])['total_order_cost'].min().reset_index()#groupby 两列\n",
    "#按前两列的每个cust id，算第三列（cost）的最小值min for each"
   ]
  },
  {
   "cell_type": "code",
   "execution_count": null,
   "metadata": {},
   "outputs": [],
   "source": [
    "#income by title and gender\n",
    "import pandas as pd\n",
    "#>=1个bonus\n",
    "#整理bonus表：左边id，算右边bonus的总数。to_frame():to dataframe.\n",
    "sf_bonus_summary=sf_bonus.groupby(['worker_ref_id'])['bonus'].sum().to_frame(\"bonus\").reset_index()\n",
    "#merge两张表，employee的id和worker id是一个东西，按这个左右对齐\n",
    "merged_df=pd.merge(sf_employee,sf_bonus_summary,left_on='id',right_on='worker_ref_id')\n",
    "#在merge表里创一列新的，新的=merge里的salary列+bonus列，each value对应相加\n",
    "merged_df['avg_total_comp']=merged_df['salary']+merged_df['bonus']\n",
    "#groupby：第一列title，第二列sex，算第三列（avg）的mean（根据前两列each）\n",
    "result=merged_df.groupby(['employee_title','sex'])['avg_total_comp'].mean().reset_index() #第三列要算数"
   ]
  },
  {
   "cell_type": "code",
   "execution_count": null,
   "metadata": {},
   "outputs": [],
   "source": [
    "#product transaction count\n",
    "import pandas as pd\n",
    "\n",
    "#merge两个表，product_id是一个东西，左右按其变量对齐。自动去掉了无transaction的id（第二个表只有部分id），output两个表都有的id\n",
    "merge1=pd.merge(excel_sql_inventory_data,excel_sql_transaction_data,left_on='product_id',right_on='product_id')\n",
    "#groupby：第一列product id，第二列name，根据前两列的each，算第三列（transaction id）有多少个/条记录for each。\n",
    "#自动按第一列从小到大排\n",
    "result=merge1.groupby(['product_id','product_name'])['transaction_id'].count().reset_index()\n",
    "#重命名+去掉第一列\n",
    "result=result.rename(columns={'transaction_id':'number of transactions'}).drop('product_id',axis=1)"
   ]
  },
  {
   "cell_type": "code",
   "execution_count": null,
   "metadata": {},
   "outputs": [],
   "source": [
    "#find the top 10 ranked song\n",
    "import pandas as pd\n",
    "#选取year=2010的 并且 rank1-10的\n",
    "conditions=billboard_top_100_year_end[(billboard_top_100_year_end['year']==2010)&(billboard_top_100_year_end['year_rank'].between(1,10))]\n",
    "#选取其中三列，去掉里面重复的值（自动去掉相同行）----not same song twice\n",
    "result=conditions[['year_rank','group_name','song_name']].drop_duplicates()"
   ]
  },
  {
   "cell_type": "code",
   "execution_count": null,
   "metadata": {},
   "outputs": [],
   "source": [
    "#apt in ny and harlem\n",
    "#3个conditions：apt+nyc+harlem，选取满足这三个的details\n",
    "conditions=airbnb_search_details[(airbnb_search_details['property_type']=='Apartment')&(airbnb_search_details['city']=='NYC')&(airbnb_search_details['neighbourhood']=='Harlem')]"
   ]
  },
  {
   "cell_type": "code",
   "execution_count": null,
   "metadata": {},
   "outputs": [],
   "source": [
    "#duplicate emails\n",
    "import pandas as pd\n",
    "\n",
    "# 想要左列email，右列count email：最好要新建一列#，groupby email，然后用transform来count email\n",
    "employee['number']=employee.groupby('email')['email'].transform('count')\n",
    "#选取新建的number列和email列，去掉重复的----number对应email。（molly：4次，其他都指molly4次，可以去掉）\n",
    "result=employee[['email','number']].drop_duplicates()\n",
    "#选取表里面：conditions：number列大于1（出现次数多于1次=duplicate）\n",
    "result[(result['number']>1)]"
   ]
  },
  {
   "cell_type": "code",
   "execution_count": null,
   "metadata": {},
   "outputs": [],
   "source": [
    "#review bins on reviews number:output price+its category for each accomodation(based on accomondation level)\n",
    "\n",
    "import pandas as pd\n",
    "import numpy as np\n",
    "\n",
    "#选出number of reviews列，存成num_reviews variable\n",
    "num_reviews=airbnb_search_details['number_of_reviews']\n",
    "#conlist：dataframe：列：1st住处，2nd住处... 行：5个条件：0，1-5，6-15，16-40，>40, 输出为true/false      判断条件\n",
    "#num_reviews从0th index开始----1st住处的review数量 判断五次----输出f,t,f,f,f为第一列\n",
    "conlist=[num_reviews==0,num_reviews.between(1,5),num_reviews.between(6,15),num_reviews.between(16,40),num_reviews>40] \n",
    "#choicelist：建立一列，从上到下为no(对应第一个判断条件的分类word），few（对应第二个判断条件的分类word）,...\n",
    "choicelist=['NO','FEW','SOME','MANY','A LOT']\n",
    "#新建一列reviews qualification存结果。np.select:对1st住处#reviews，判断2是true，对应2的分类为few，输出few----为这列第一个数\n",
    "#第二个数代表 2nd住处。。。 自动选择判断条件为true的那个输出choicelist                                     对应的输出（分类）\n",
    "airbnb_search_details['reviews qualification']=np.select(conlist,choicelist)\n",
    "#选取review quali和price两列----存成result 输出\n",
    "result=airbnb_search_details[['reviews qualification','price']]"
   ]
  },
  {
   "cell_type": "code",
   "execution_count": null,
   "metadata": {},
   "outputs": [],
   "source": [
    "#business name length: each business name+its #words (no special symbols)\n",
    "\n",
    "import pandas as pd\n",
    "\n",
    "#choose business_name列，去掉重复的name--存成business_name variable\n",
    "business_name=sf_restaurant_health_violations['business_name'].drop_duplicates()\n",
    "#用df.str.replace('[,]','')把special symbols替换成空格----words数量不算symbols\n",
    "business_name1=business_name.str.replace('[#,&,@,!,$,%,^,+,_,=,-,~,|,`,|,\\,?,>,<,/,.,,:,;,},{,(,),*,]',' ')\n",
    "#df.str.split()把name拆开变成list----[\"john\",\"love\"]\n",
    "result=business_name1.str.split()\n",
    "#df.str.len() ：算每个的words数----新建一列来存\n",
    "sf_restaurant_health_violations['number of words']=result.str.len()\n",
    "#选取words数列和name列----output\n",
    "result1=sf_restaurant_health_violations[['business_name','number of words']]"
   ]
  },
  {
   "cell_type": "code",
   "execution_count": null,
   "metadata": {},
   "outputs": [],
   "source": [
    "#positions of letter 'a':find position(从1开始) of 'a' in 'Amitah'\n",
    "\n",
    "import pandas as pd\n",
    "#1-based indexing:从1开始，position of 2nd letter=2\n",
    "#选出irst_name列叫Amitah的----存成worker1\n",
    "worker1=worker[worker['first_name']=='Amitah']    #ouput为一行\n",
    "#再单选出这列（output就一个），用str.find('letter')找index---+1 b/c use 1-based indexing\n",
    "worker1['first_name'].str.find('a')+1\n",
    "#df.str.---对每格的词words进行操作"
   ]
  },
  {
   "cell_type": "code",
   "execution_count": null,
   "metadata": {},
   "outputs": [],
   "source": [
    "#number of comments /user: each user+ #comments (for each)\n",
    "\n",
    "import pandas as pd\n",
    "#use to_datetime function\n",
    "from datetime import timedelta\n",
    "\n",
    "#30 days before 2020-02-10(end)\n",
    "#2 conditions，选create_at列\n",
    "#interval:[begin(2020-02-10减掉30天),end(2020-02-10)]. pd.to_datetime('日期‘）进行日期加减\n",
    "#timedelta（days=#），delta=30天的差\n",
    "result=fb_comments_count[(fb_comments_count['created_at']>=pd.to_datetime(\"2020-02-10\")-timedelta(days=30)) & (fb_comments_count['created_at']<=pd.to_datetime('2020-02-10'))]\n",
    "#输出两列：groupby：第一列（userid，each user），算第二列（comment数）的value for 第一列每个\n",
    "#sum(): 里面数的和。 count()：有几条/个，一行是一条/个，有几行for each in 第一列\n",
    "result.groupby('user_id')['number_of_comments'].sum().reset_index()"
   ]
  },
  {
   "cell_type": "code",
   "execution_count": null,
   "metadata": {},
   "outputs": [],
   "source": [
    "#finding user purchases:output a list of userid(return user的）\n",
    "import pandas as pd\n",
    "import numpy as np\n",
    "from datetime import datetime #操作日期加减\n",
    "\n",
    "#更新created_at这一列：格式改成03-03-2020\n",
    "amazon_transactions[\"created_at\"] = pd.to_datetime(amazon_transactions[\"created_at\"]).dt.strftime('%m-%d-%Y')\n",
    "#创一个新的df存：从小到大sort user_id。再对每个user_id:从小到大sort日期\n",
    "df = amazon_transactions.sort_values(by=['user_id', 'created_at'], ascending=[True, True])\n",
    "#新建一列prev_value存：shift得到previous orders的日期，e.g.去掉最后一次购买日期----只买了一次or最后一次购买的日期变成空白\n",
    "df['prev_value'] = df.groupby('user_id')['created_at'].shift() #往下移1个\n",
    "#新建一列days存：日期差：df的created_at日期列 - df的prev_value日期列：后一次 - 前一次 的日期差\n",
    "df['days'] = (pd.to_datetime(df['created_at']) - pd.to_datetime(df['prev_value'])).dt.days\n",
    "#选df里，df的days列（日期差）在7天内的，对应的userid----unique():get distinct users，去掉重复的id\n",
    "result = df[df['days'] <= 7]['user_id'].unique() "
   ]
  },
  {
   "cell_type": "code",
   "execution_count": null,
   "metadata": {},
   "outputs": [],
   "source": [
    "#customer revenue in march: output cust_id+revenue(cost) for each cust_id, sort\n",
    "\n",
    "import pandas as pd\n",
    "import numpy as np\n",
    "\n",
    "#update order_date列：用pd.to_datetime，后续进行日期操作\n",
    "orders['order_date']=pd.to_datetime(orders['order_date'])\n",
    "#新建march_2019:只选取orders里，orders的order_date列month是3月并且year是2019年的。2个conditions\n",
    "march_2019=orders[(orders['order_date'].dt.month==3)&(orders['order_date'].dt.year==2019)]\n",
    "#groupby：第一列（cust_id），算第二列（cost）的value for each第一列，sum():第二列里面数的和=revenue\n",
    "#to_frame(''):改第二列的column名字, sort_values('',ascending=False):根据‘’列sort，从大到小\n",
    "#reset_index()\n",
    "result=march_2019.groupby(\"cust_id\")['total_order_cost'].sum().to_frame('revenue').sort_values('revenue',ascending=False).reset_index()"
   ]
  },
  {
   "cell_type": "code",
   "execution_count": null,
   "metadata": {},
   "outputs": [],
   "source": [
    "from sklearn import linear_model\n",
    "\n",
    "c1 = df.groupby('companyname').get_group('SUNCOR ENERGY INC') #c1:df\n",
    "c1['r-rf'] = c1['r'] - c1['rf']\n",
    "y = c1['r-rf']\n",
    "fac1 = c1['rmkt']-c1['rf']\n",
    "fac2 = c1['rxle']-c1['rf']\n",
    "x =  pd.DataFrame({'fac1': fac1, 'fac2': fac2})\n",
    "regr = linear_model.LinearRegression()\n",
    "regr.fit(x, y)\n",
    "print(\"Coefficients: \\n\", regr.coef_)\n",
    "print(\"alpha: \\n\", regr.intercept_)\n",
    "\n",
    "x_new=pd.concat((curr,one_lagged,two_lagged),axis=1) #multivariate"
   ]
  },
  {
   "cell_type": "code",
   "execution_count": 1,
   "metadata": {},
   "outputs": [
    {
     "data": {
      "text/plain": [
       "[[1], [1, 1], [1, 2, 1], [1, 3, 3, 1], [1, 4, 6, 4, 1]]"
      ]
     },
     "execution_count": 1,
     "metadata": {},
     "output_type": "execute_result"
    }
   ],
   "source": [
    "#pascal triangle\n",
    "def generate(numRows):\n",
    "    result=[[1],[1,1]]#initialize\n",
    "    for i in range(2, numRows):#从2开始，i=numrows=行，j：i行里的1st，2nd。。。元素\n",
    "        row=[1]#initialize\n",
    "        for j in range(1,len(result[i-1])):#1 到 result里i-1th element的长度         \n",
    "            row.append(result[i-1][j]+result[i-1][j-1]) #result里的第i-1th个的第jth element和j-1th element相加\n",
    "        row.append(1) #最后➕上1\n",
    "        result.append(row) #把新的row加到结果里\n",
    "    return result[:numRows]#从0到4th element\n",
    "generate(5)"
   ]
  },
  {
   "cell_type": "code",
   "execution_count": 2,
   "metadata": {},
   "outputs": [
    {
     "data": {
      "text/plain": [
       "5"
      ]
     },
     "execution_count": 2,
     "metadata": {},
     "output_type": "execute_result"
    }
   ],
   "source": [
    "#best time to buy and sell stock\n",
    "def maxprofit(prices):\n",
    "    max_profit=0\n",
    "    for i in range(len(prices)-1):#i只用到倒数第二个\n",
    "        for j in range(i+1,len(prices)): #j从i后一个开始，到最后一个\n",
    "            #不断的第一个和第二个/第三个/第四个。。。比较\n",
    "            profit=prices[j]-prices[i] #后一个➖前一个\n",
    "            if profit>max_profit: #大于0\n",
    "                max_profit=profit #assign成输出profit\n",
    "    return max_profit\n",
    "maxprofit([7,1,5,3,6,4])"
   ]
  },
  {
   "cell_type": "code",
   "execution_count": 11,
   "metadata": {},
   "outputs": [
    {
     "data": {
      "text/plain": [
       "True"
      ]
     },
     "execution_count": 11,
     "metadata": {},
     "output_type": "execute_result"
    }
   ],
   "source": [
    "#valid palindrome\n",
    "def ispalindrome(s):\n",
    "    if s==\"\":\n",
    "        return True\n",
    "    s=s.lower() #转成lowercase\n",
    "    a='' #新建输出string\n",
    "    for i in [*s]: #i=拆分的str\n",
    "        if i.isalpha(): #如果是letter\n",
    "            a=a+i #string直接➕上\n",
    "        if i.isnumeric(): #如果是数字\n",
    "            a=a+i #➕上\n",
    "    return a==a[::-1]\n",
    "ispalindrome(\"A man, a plan, a canal: Panama\")"
   ]
  },
  {
   "cell_type": "code",
   "execution_count": 4,
   "metadata": {},
   "outputs": [
    {
     "data": {
      "text/plain": [
       "['s', 'e', 'f', 'a', 's', 'g', 'e', '1', '0', '2']"
      ]
     },
     "execution_count": 4,
     "metadata": {},
     "output_type": "execute_result"
    }
   ],
   "source": [
    "s=\"sefasge102\"\n",
    "[*s] #拆分成单个string"
   ]
  },
  {
   "cell_type": "code",
   "execution_count": 15,
   "metadata": {},
   "outputs": [
    {
     "data": {
      "text/plain": [
       "1"
      ]
     },
     "execution_count": 15,
     "metadata": {},
     "output_type": "execute_result"
    }
   ],
   "source": [
    "#single number\n",
    "from functools import reduce\n",
    "def singlenumber(nums):\n",
    "    return reduce(lambda total, el: total ^ el, nums)\n",
    "#reduce(function,sequence[,initial]) #从initial开始，run function：(2^2)^1...\n",
    "#lambda arguments(variables): expression\n",
    "#^: 先转成binary，都是0 or 1--输出0，不一样--输出1。再转成十进制\n",
    "singlenumber([1,2,2])"
   ]
  },
  {
   "cell_type": "code",
   "execution_count": 38,
   "metadata": {},
   "outputs": [
    {
     "data": {
      "text/plain": [
       "2"
      ]
     },
     "execution_count": 38,
     "metadata": {},
     "output_type": "execute_result"
    }
   ],
   "source": [
    "#majority element\n",
    "def majorityelement(nums):\n",
    "    majority_count = len(nums)//2\n",
    "    for num in nums:\n",
    "        count = sum(1 for elem in nums if elem == num)\n",
    "        if count > majority_count:\n",
    "            return num\n",
    "majorityelement([2,2,3,2,2,1])\n"
   ]
  },
  {
   "cell_type": "code",
   "execution_count": 10,
   "metadata": {},
   "outputs": [
    {
     "data": {
      "text/plain": [
       "28"
      ]
     },
     "execution_count": 10,
     "metadata": {},
     "output_type": "execute_result"
    }
   ],
   "source": [
    "#excel sheet column number\n",
    "def titletonum(columnTitle):\n",
    "    ans,pos=0,0\n",
    "    for i in reversed(columnTitle): #reverse string\n",
    "        digit=ord(i)-64 #ord(i) return unicode for letter A-Z: ord(A)=65\n",
    "        #A:1=65-64...\n",
    "        ans=ans+digit* 26**pos #update ans: +1*26^0 + 1*26^1\n",
    "        pos=pos+1 #update pos (for expo index)\n",
    "    return ans \n",
    "titletonum(\"AB\")"
   ]
  },
  {
   "cell_type": "code",
   "execution_count": 6,
   "metadata": {},
   "outputs": [
    {
     "data": {
      "text/plain": [
       "90"
      ]
     },
     "execution_count": 6,
     "metadata": {},
     "output_type": "execute_result"
    }
   ],
   "source": [
    "ord(\"Z\")"
   ]
  },
  {
   "cell_type": "code",
   "execution_count": 18,
   "metadata": {},
   "outputs": [
    {
     "data": {
      "text/plain": [
       "True"
      ]
     },
     "execution_count": 18,
     "metadata": {},
     "output_type": "execute_result"
    }
   ],
   "source": [
    "#happy number\n",
    "def ishappy(n):\n",
    "    def get_next(n):\n",
    "        total_sum=0\n",
    "        while n>0: #boundary condition:positive number\n",
    "            n,digit=divmod(n,10) #n/10--quotient,remainder\n",
    "            total_sum=total_sum+digit**2 #udpate +each digit^2\n",
    "        return total_sum #sum of digit square\n",
    "    seen=set() #empty set\n",
    "    while n!=1 and n not in seen: #boundary coundition: not 1(1 is obviously happy) & not empty\n",
    "        seen.add(n) #add n to set (if n not in set)\n",
    "        n=get_next(n) #udpate n: n=total sum. 不断的total sum\n",
    "    return n==1  #if n=1, true\n",
    "        \n",
    "ishappy(19)            "
   ]
  },
  {
   "cell_type": "code",
   "execution_count": 13,
   "metadata": {},
   "outputs": [
    {
     "name": "stdout",
     "output_type": "stream",
     "text": [
      "set()\n"
     ]
    }
   ],
   "source": [
    "a=set()\n",
    "print (a)"
   ]
  },
  {
   "cell_type": "code",
   "execution_count": 22,
   "metadata": {},
   "outputs": [
    {
     "ename": "AttributeError",
     "evalue": "'list' object has no attribute 'next'",
     "output_type": "error",
     "traceback": [
      "\u001b[0;31m---------------------------------------------------------------------------\u001b[0m",
      "\u001b[0;31mAttributeError\u001b[0m                            Traceback (most recent call last)",
      "\u001b[0;32m<ipython-input-22-b99d247b3e9e>\u001b[0m in \u001b[0;36m<module>\u001b[0;34m\u001b[0m\n\u001b[1;32m     11\u001b[0m     \u001b[0;32mreturn\u001b[0m \u001b[0mprev\u001b[0m\u001b[0;34m\u001b[0m\u001b[0;34m\u001b[0m\u001b[0m\n\u001b[1;32m     12\u001b[0m \u001b[0;34m\u001b[0m\u001b[0m\n\u001b[0;32m---> 13\u001b[0;31m \u001b[0mreverselist\u001b[0m\u001b[0;34m(\u001b[0m\u001b[0;34m[\u001b[0m\u001b[0;36m1\u001b[0m\u001b[0;34m,\u001b[0m\u001b[0;36m2\u001b[0m\u001b[0;34m,\u001b[0m\u001b[0;36m3\u001b[0m\u001b[0;34m,\u001b[0m\u001b[0;36m4\u001b[0m\u001b[0;34m,\u001b[0m\u001b[0;36m5\u001b[0m\u001b[0;34m]\u001b[0m\u001b[0;34m)\u001b[0m\u001b[0;34m\u001b[0m\u001b[0;34m\u001b[0m\u001b[0m\n\u001b[0m",
      "\u001b[0;32m<ipython-input-22-b99d247b3e9e>\u001b[0m in \u001b[0;36mreverselist\u001b[0;34m(head)\u001b[0m\n\u001b[1;32m      4\u001b[0m \u001b[0;34m\u001b[0m\u001b[0m\n\u001b[1;32m      5\u001b[0m     \u001b[0;32mwhile\u001b[0m \u001b[0mcurrent\u001b[0m\u001b[0;34m:\u001b[0m\u001b[0;34m\u001b[0m\u001b[0;34m\u001b[0m\u001b[0m\n\u001b[0;32m----> 6\u001b[0;31m         \u001b[0mtemp\u001b[0m\u001b[0;34m=\u001b[0m\u001b[0mcurrent\u001b[0m\u001b[0;34m.\u001b[0m\u001b[0mnext\u001b[0m\u001b[0;34m\u001b[0m\u001b[0;34m\u001b[0m\u001b[0m\n\u001b[0m\u001b[1;32m      7\u001b[0m         \u001b[0mcurrent\u001b[0m\u001b[0;34m.\u001b[0m\u001b[0mnext\u001b[0m\u001b[0;34m=\u001b[0m\u001b[0mprev\u001b[0m\u001b[0;34m\u001b[0m\u001b[0;34m\u001b[0m\u001b[0m\n\u001b[1;32m      8\u001b[0m         \u001b[0mprev\u001b[0m\u001b[0;34m=\u001b[0m\u001b[0mcurrent\u001b[0m\u001b[0;34m\u001b[0m\u001b[0;34m\u001b[0m\u001b[0m\n",
      "\u001b[0;31mAttributeError\u001b[0m: 'list' object has no attribute 'next'"
     ]
    }
   ],
   "source": [
    "def reverselist(head):\n",
    "    prev=None\n",
    "    current=head\n",
    "    \n",
    "    while current:\n",
    "        temp=current.next\n",
    "        current.next=prev\n",
    "        prev=current\n",
    "        current=temp\n",
    "        \n",
    "    return prev\n",
    "\n",
    "reverselist([1,2,3,4,5])"
   ]
  },
  {
   "cell_type": "code",
   "execution_count": null,
   "metadata": {},
   "outputs": [],
   "source": [
    "#contains duplicate\n",
    "def containdup(nums):\n",
    "    hset=set() #empty set\n",
    "    for i in nums: #i=each element\n",
    "        if i in hset: #if i in set \n",
    "            return True #true: duplicate\n",
    "        else: #not in\n",
    "            hset.add(i) #add i to set"
   ]
  },
  {
   "cell_type": "code",
   "execution_count": 24,
   "metadata": {},
   "outputs": [
    {
     "data": {
      "text/plain": [
       "2"
      ]
     },
     "execution_count": 24,
     "metadata": {},
     "output_type": "execute_result"
    }
   ],
   "source": [
    "#missing number\n",
    "def missingnumber(nums): \n",
    "    n=len(nums) #has n numbers=length\n",
    "    for i in range(n+1): #i= 0,..,n---range[0,n]\n",
    "        if i not in nums: # if i 不在nums list里\n",
    "            return i #输出i\n",
    "missingnumber([0,1,3])   "
   ]
  },
  {
   "cell_type": "code",
   "execution_count": 2,
   "metadata": {},
   "outputs": [
    {
     "data": {
      "text/plain": [
       "[1, 3, 12, 0, 0]"
      ]
     },
     "execution_count": 2,
     "metadata": {},
     "output_type": "execute_result"
    }
   ],
   "source": [
    "#move zeros\n",
    "def movezero(nums):\n",
    "    i=0 \n",
    "    for j in range(len(nums)): #fast=0,1,2,..\n",
    "        if nums[j]!=0 and nums[i]==0: #e.g. j=1,nums[1]=1,nums[0]=0\n",
    "            nums[i],nums[j]=nums[j],nums[i] #nums[0]=1,nums[1]=0 \n",
    "            #后面的数和前面的0交换，后面往前移\n",
    "        if nums[i]!=0:#nums[0]=1\n",
    "            i=i+1 #update i, i=1 \n",
    "    #第一个数=0，不管，到第二个\n",
    "    return nums\n",
    "movezero([0,1,3,12,0])"
   ]
  },
  {
   "cell_type": "code",
   "execution_count": 8,
   "metadata": {},
   "outputs": [
    {
     "data": {
      "text/plain": [
       "False"
      ]
     },
     "execution_count": 8,
     "metadata": {},
     "output_type": "execute_result"
    }
   ],
   "source": [
    "#power of 3\n",
    "def ispowerof3(n): #n integer\n",
    "    \n",
    "    def helper(i):\n",
    "        if i<1:\n",
    "            return False #not 3^x\n",
    "        if i==1:\n",
    "            return True \n",
    "        if i%3!=0: #不是3的倍数，肯定不是power of 3\n",
    "            return False\n",
    "        return helper(i//3) #（不属于上面）如果是3的倍数，一直除下去到i=1,call function--return true\n",
    "    \n",
    "    return helper(n) #--call helper function\n",
    "\n",
    "ispowerof3(28)\n",
    "#e.g. n=28,return helper(28):i=28,return False--False\n",
    "#e.g. n=27, return helper(27):i=27,return helper(27//3=9)--i=9,return helper(9//3=3)---i=3,return helper(3//3=1)\n",
    "#--retrun True--True"
   ]
  },
  {
   "cell_type": "code",
   "execution_count": 3,
   "metadata": {},
   "outputs": [
    {
     "data": {
      "text/plain": [
       "1"
      ]
     },
     "execution_count": 3,
     "metadata": {},
     "output_type": "execute_result"
    }
   ],
   "source": [
    "5//3"
   ]
  },
  {
   "cell_type": "code",
   "execution_count": 13,
   "metadata": {},
   "outputs": [
    {
     "data": {
      "text/plain": [
       "['o', 'l', 'e', 'h']"
      ]
     },
     "execution_count": 13,
     "metadata": {},
     "output_type": "execute_result"
    }
   ],
   "source": [
    "#reverse string\n",
    "def reversestr(s): #s=[\"h\",\"e\",\"l\",\"o\"]\n",
    "    l=0 \n",
    "    r=len(s)-1 #r=3--最后一个index\n",
    "    while l<r:#0<3\n",
    "        s[l],s[r]=s[r],s[l] #s[0]=s[3]=o,s[3]=s[0]=h--第一个和最后一个互换，13互换，24互换--done\n",
    "        l=l+1 #update l:往后一个\n",
    "        r=r-1 #update r：往前一个\n",
    "    return s\n",
    "reversestr([\"h\",\"e\",\"l\",\"o\"])"
   ]
  },
  {
   "cell_type": "code",
   "execution_count": null,
   "metadata": {},
   "outputs": [],
   "source": [
    "#intersection of 2 arrays\n",
    "def intersect(nums1,nums2):\n",
    "    list1=[] #建result list\n",
    "    for i in nums1: #e.g.nums1=[1,2,2,1],i=1,2,2,1\n",
    "        if i in nums2 and i not in list1: #i也在nums2 and 不在result list里\n",
    "            list1=list1+[i]*min(nums1.count(i),nums2.count(i)) #update list1: + [2,2] #nums1和nums2里的i的数量min\n",
    "    return list1\n"
   ]
  },
  {
   "cell_type": "code",
   "execution_count": 14,
   "metadata": {},
   "outputs": [
    {
     "data": {
      "text/plain": [
       "[1, 1, 1]"
      ]
     },
     "execution_count": 14,
     "metadata": {},
     "output_type": "execute_result"
    }
   ],
   "source": [
    "[1]*3"
   ]
  },
  {
   "cell_type": "code",
   "execution_count": null,
   "metadata": {},
   "outputs": [],
   "source": [
    "#linked list , tree"
   ]
  },
  {
   "cell_type": "code",
   "execution_count": null,
   "metadata": {},
   "outputs": [],
   "source": []
  }
 ],
 "metadata": {
  "kernelspec": {
   "display_name": "Python 3",
   "language": "python",
   "name": "python3"
  },
  "language_info": {
   "codemirror_mode": {
    "name": "ipython",
    "version": 3
   },
   "file_extension": ".py",
   "mimetype": "text/x-python",
   "name": "python",
   "nbconvert_exporter": "python",
   "pygments_lexer": "ipython3",
   "version": "3.8.3"
  }
 },
 "nbformat": 4,
 "nbformat_minor": 4
}
